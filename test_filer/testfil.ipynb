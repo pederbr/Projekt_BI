{
 "cells": [
  {
   "cell_type": "code",
   "execution_count": 5,
   "metadata": {},
   "outputs": [
    {
     "name": "stdout",
     "output_type": "stream",
     "text": [
      "15\n",
      "(0.48, 0.81, 0.76, 3.29, 2.43, 3.67, 3.81, 3.52, 2.9, 4.0, 3.67, 4.19, 4.05, 3.48, 3.48)\n"
     ]
    }
   ],
   "source": [
    "def avg_values(filename:str)->tuple:\n",
    "    import pandas as pd\n",
    "    df = pd.read_csv(filename)\n",
    "\n",
    "    #svarene på enten/eller spm\n",
    "    q_list_1=[   \n",
    "    df.loc[1:2],    #prosentandel kvinner\n",
    "    df.loc[6:7],    #prosentandel data\n",
    "    df.loc[40:41]]  #prosentandel som kunne tenke seg å jobbe der\n",
    "\n",
    "    #finner prosentandeler\n",
    "    temp=[]\n",
    "    for elem in q_list_1:\n",
    "        question=elem.values.tolist()\n",
    "        ans1=int(question[0][1])\n",
    "        ans2=int(question[1][1])\n",
    "        temp.append(round((ans1/(ans1+ans2)),2))\n",
    "\n",
    "\n",
    "\n",
    "    #svarene på veldig_bra til veldig_dårlig spørsmålene\n",
    "    q_list=[\n",
    "    df.loc[10:14],  #fordeling_klassetrinn\n",
    "    df.loc[72:76],  #fremforing_presentasjon\n",
    "    df.loc[65:69],  #innhold_presentasjon\n",
    "    df.loc[79:83],  #kunnskap_bedrift_pre\n",
    "    df.loc[86:90],  #kunnskap_bedrift_post\n",
    "    df.loc[93:97],  #info_jobb\n",
    "    df.loc[58:62],  #mingling\n",
    "    df.loc[17:21],  #intterresant_arbeid\n",
    "    df.loc[33:37],  #sosialt_miljø\n",
    "    df.loc[44:48],  #arbeidsvilkår\n",
    "    df.loc[51:55],  #helhetsvurdering_bedrift\n",
    "    df.loc[111:115]]#inntrykk_arrangement\n",
    "    \n",
    "\n",
    "    #gjør om svarene til gjennomsnitt og setter de inn i en tuppel i samme rekkefølge som i q_list\n",
    "    temp1=[]\n",
    "    for elem in q_list:\n",
    "        question=elem.values.tolist()\n",
    "        summ = 0\n",
    "        votes = 0\n",
    "        try:\n",
    "            for index, score in enumerate(question):\n",
    "                points = 5-index\n",
    "                votes += int(score[1])\n",
    "                summ += points*int(score[1])\n",
    "            temp1.append(round((summ/votes),2))\n",
    "        except:\n",
    "            temp1.append(temp1[len(temp1)-1])\n",
    "\n",
    "\n",
    "    average_score_questions=tuple(temp+temp1)\n",
    "    return average_score_questions\n",
    "\n",
    "\n",
    "print(avg_values(\"Spørreundersøkelse_for_lunsjpresentasjon_med_Appfarm.csv\"))"
   ]
  },
  {
   "cell_type": "code",
   "execution_count": null,
   "metadata": {},
   "outputs": [],
   "source": []
  }
 ],
 "metadata": {
  "kernelspec": {
   "display_name": "Python 3",
   "language": "python",
   "name": "python3"
  },
  "language_info": {
   "codemirror_mode": {
    "name": "ipython",
    "version": 3
   },
   "file_extension": ".py",
   "mimetype": "text/x-python",
   "name": "python",
   "nbconvert_exporter": "python",
   "pygments_lexer": "ipython3",
   "version": "3.11.4"
  }
 },
 "nbformat": 4,
 "nbformat_minor": 2
}
