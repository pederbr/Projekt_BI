{
 "cells": [
  {
   "cell_type": "code",
   "execution_count": 56,
   "metadata": {},
   "outputs": [
    {
     "data": {
      "text/plain": [
       "(0.2564102564102564,\n",
       " 0.23076923076923078,\n",
       " 0.9230769230769231,\n",
       " 2.6666666666666665,\n",
       " 4.512820512820513,\n",
       " 4.461538461538462,\n",
       " 2.641025641025641,\n",
       " 3.7435897435897436,\n",
       " 4.17948717948718,\n",
       " 3.8974358974358974,\n",
       " 4.794871794871795,\n",
       " 4.153846153846154,\n",
       " 4.230769230769231,\n",
       " 4.769230769230769,\n",
       " 2.3333333333333335)"
      ]
     },
     "execution_count": 56,
     "metadata": {},
     "output_type": "execute_result"
    }
   ],
   "source": [
    "def avg_values(filename:str)->tuple:\n",
    "    import pandas as pd\n",
    "    df = pd.read_csv(filename)\n",
    "\n",
    "    #svarene på enten/eller spm\n",
    "    q_list_1=[   \n",
    "    df.loc[1:2],    #prosentandel kvinner\n",
    "    df.loc[6:7],    #prosentandel data\n",
    "    df.loc[40:41]]  #prosentandel som kunne tenke seg å jobbe der\n",
    "\n",
    "    #finner prosentandeler\n",
    "    temp=[]\n",
    "    for elem in q_list_1:\n",
    "        question=elem.values.tolist()\n",
    "        ans1=int(question[0][1])\n",
    "        ans2=int(question[1][1])\n",
    "        temp.append(ans1/(ans1+ans2))\n",
    "\n",
    "\n",
    "\n",
    "    #svarene på veldig_bra til veldig_dårlig spørsmålene\n",
    "    q_list=[\n",
    "    df.loc[10:14],  #fordeling_klassetrinn\n",
    "    df.loc[72:76],  #fremforing_presentasjon\n",
    "    df.loc[65:69],  #innhold_presentasjon\n",
    "    df.loc[79:83],  #kunnskap_bedrift_pre\n",
    "    df.loc[86:90],  #kunnskap_bedrift_post\n",
    "    df.loc[93:97],  #info_jobb\n",
    "    df.loc[58:62],  #mingling\n",
    "    df.loc[17:21],  #intterresant_arbeid\n",
    "    df.loc[33:37],  #sosialt_miljø\n",
    "    df.loc[44:48],  #arbeidsvilkår\n",
    "    df.loc[51:55],  #helhetsvurdering_bedrift\n",
    "    df.loc[111:115]]#inntrykk_arrangement\n",
    "    \n",
    "\n",
    "    #gjør om svarene til gjennomsnitt og setter de inn i en tuppel i samme rekkefølge som i q_list\n",
    "    temp1=[]\n",
    "    for elem in q_list:\n",
    "        question=elem.values.tolist()\n",
    "        summ = 0\n",
    "        votes = 0\n",
    "        for index, score in enumerate(question):\n",
    "            points = 5-index\n",
    "            votes += int(score[1])\n",
    "            summ += points*int(score[1])\n",
    "        temp1.append(summ/votes)\n",
    "\n",
    "    average_score_questions=tuple(temp+temp1)\n",
    "    return average_score_questions\n",
    "\n",
    "avg_values(\"WS_e_tjenesten.csv\")\n"
   ]
  },
  {
   "cell_type": "code",
   "execution_count": null,
   "metadata": {},
   "outputs": [],
   "source": []
  }
 ],
 "metadata": {
  "kernelspec": {
   "display_name": "Python 3",
   "language": "python",
   "name": "python3"
  },
  "language_info": {
   "codemirror_mode": {
    "name": "ipython",
    "version": 3
   },
   "file_extension": ".py",
   "mimetype": "text/x-python",
   "name": "python",
   "nbconvert_exporter": "python",
   "pygments_lexer": "ipython3",
   "version": "3.11.4"
  }
 },
 "nbformat": 4,
 "nbformat_minor": 2
}
